{
  "nbformat": 4,
  "nbformat_minor": 0,
  "metadata": {
    "colab": {
      "provenance": [],
      "toc_visible": true,
      "authorship_tag": "ABX9TyPscopD2X6GnoIHWZelgWIE",
      "include_colab_link": true
    },
    "kernelspec": {
      "name": "python3",
      "display_name": "Python 3"
    },
    "language_info": {
      "name": "python"
    }
  },
  "cells": [
    {
      "cell_type": "markdown",
      "metadata": {
        "id": "view-in-github",
        "colab_type": "text"
      },
      "source": [
        "<a href=\"https://colab.research.google.com/github/XinchengLi0306/INFOSYS-722-Assignment-5-Iteration-4-BDAS/blob/master/Iteration_4_BDAS.ipynb\" target=\"_parent\"><img src=\"https://colab.research.google.com/assets/colab-badge.svg\" alt=\"Open In Colab\"/></a>"
      ]
    },
    {
      "cell_type": "markdown",
      "source": [
        "# **INFOSYS 722 Assignment 5-Iteration-4-BDAS**"
      ],
      "metadata": {
        "id": "9sAPbdei6lAU"
      }
    },
    {
      "cell_type": "markdown",
      "source": [
        "## **Step 1 Business Understanding**\n"
      ],
      "metadata": {
        "id": "-ZXT_Kf66lCq"
      }
    },
    {
      "cell_type": "markdown",
      "source": [
        "### 1.1 Business Situation\n"
      ],
      "metadata": {
        "id": "WayulLAZ7Pwj"
      }
    },
    {
      "cell_type": "markdown",
      "source": [
        "### 1.2 Assessment of the Situation"
      ],
      "metadata": {
        "id": "-PryxMTq4H52"
      }
    },
    {
      "cell_type": "markdown",
      "source": [
        "### 1.3 Data Mining Objectives"
      ],
      "metadata": {
        "id": "I7gj2L2c4IBI"
      }
    },
    {
      "cell_type": "markdown",
      "source": [
        "### 1.4 Project Plan"
      ],
      "metadata": {
        "id": "UZ8QXUiK4IH3"
      }
    },
    {
      "cell_type": "markdown",
      "source": [
        "## Step 2 Data Understanding"
      ],
      "metadata": {
        "id": "iAglK_y481US"
      }
    },
    {
      "cell_type": "code",
      "source": [
        "# Import the drive module from google.colab\n",
        "from google.colab import drive\n",
        "# Mount Google Drive to the specified directory in Colab\n",
        "drive.mount('/content/drive')"
      ],
      "metadata": {
        "colab": {
          "base_uri": "https://localhost:8080/"
        },
        "id": "Gzkrs9N8fdVV",
        "outputId": "7a65ee65-c79d-4061-fa84-a725929d7453"
      },
      "execution_count": 3,
      "outputs": [
        {
          "output_type": "stream",
          "name": "stdout",
          "text": [
            "Mounted at /content/drive\n"
          ]
        }
      ]
    },
    {
      "cell_type": "code",
      "source": [
        "import torch # Import the torch library\n",
        "# Check if a CUDA enabled GPU is available, otherwise use the CPU\n",
        "device = torch.device(\"cuda\" if torch.cuda.is_available() else \"cpu\")\n",
        "device # Display the device being used"
      ],
      "metadata": {
        "colab": {
          "base_uri": "https://localhost:8080/"
        },
        "id": "lzlLp6e68MyI",
        "outputId": "7b5ae641-632f-4748-89f5-023601de0cc3"
      },
      "execution_count": 4,
      "outputs": [
        {
          "output_type": "execute_result",
          "data": {
            "text/plain": [
              "device(type='cpu')"
            ]
          },
          "metadata": {},
          "execution_count": 4
        }
      ]
    },
    {
      "cell_type": "code",
      "metadata": {
        "colab": {
          "base_uri": "https://localhost:8080/",
          "height": 219
        },
        "id": "72dc7934",
        "outputId": "6afcc0f6-5a9e-4165-8534-c3f6019f7c89"
      },
      "source": [
        "from pyspark.sql import SparkSession\n",
        "\n",
        "# Create a SparkSession\n",
        "spark = SparkSession.builder.appName(\"PySparkInColab\").getOrCreate()\n",
        "\n",
        "# Display the SparkSession object\n",
        "spark"
      ],
      "execution_count": 5,
      "outputs": [
        {
          "output_type": "execute_result",
          "data": {
            "text/plain": [
              "<pyspark.sql.session.SparkSession at 0x7daef1f267e0>"
            ],
            "text/html": [
              "\n",
              "            <div>\n",
              "                <p><b>SparkSession - in-memory</b></p>\n",
              "                \n",
              "        <div>\n",
              "            <p><b>SparkContext</b></p>\n",
              "\n",
              "            <p><a href=\"http://f78851b60e37:4040\">Spark UI</a></p>\n",
              "\n",
              "            <dl>\n",
              "              <dt>Version</dt>\n",
              "                <dd><code>v3.5.1</code></dd>\n",
              "              <dt>Master</dt>\n",
              "                <dd><code>local[*]</code></dd>\n",
              "              <dt>AppName</dt>\n",
              "                <dd><code>PySparkInColab</code></dd>\n",
              "            </dl>\n",
              "        </div>\n",
              "        \n",
              "            </div>\n",
              "        "
            ]
          },
          "metadata": {},
          "execution_count": 5
        }
      ]
    },
    {
      "cell_type": "markdown",
      "source": [
        "### 2.1 Collecting Initial Data"
      ],
      "metadata": {
        "id": "F2c_nTk881Xi"
      }
    },
    {
      "cell_type": "code",
      "source": [
        "# Initialize Spark Session\n",
        "spark = SparkSession.builder.appName(\"ISIC2019_DataUnderstanding\").getOrCreate()\n",
        "\n",
        "# Load the ISIC 2019 dataset/Define the path to the CSV file\n",
        "csv_file_path = \"/content/drive/MyDrive/INFOSYS-722-Assignment-5-Iteration-4-BDAS/Data/ISIC_2019_Training_GroundTruth.csv\"\n",
        "\n",
        "# Read the CSV file into a Spark DataFrame\n",
        "# InferSchema is set to true to automatically detect the schema\n",
        "# Header is set to true as the file contains a header row\n",
        "df = spark.read.csv(csv_file_path, header=True, inferSchema=True)\n",
        "\n",
        "# Display the schema of the DataFrame\n",
        "print(\"DataFrame Schema:\")\n",
        "df.printSchema()\n",
        "\n",
        "# Display the first few rows of the DataFrame\n",
        "print(\"First 5 rows of the DataFrame:\")\n",
        "df.show(5)"
      ],
      "metadata": {
        "id": "Gqg2dPcj7XiP",
        "colab": {
          "base_uri": "https://localhost:8080/"
        },
        "outputId": "b4ea75e2-5cda-4970-c58e-eb88e515ddd0"
      },
      "execution_count": 6,
      "outputs": [
        {
          "output_type": "stream",
          "name": "stdout",
          "text": [
            "DataFrame Schema:\n",
            "root\n",
            " |-- image: string (nullable = true)\n",
            " |-- MEL: integer (nullable = true)\n",
            " |-- NV: integer (nullable = true)\n",
            " |-- BCC: integer (nullable = true)\n",
            " |-- AK: integer (nullable = true)\n",
            " |-- BKL: integer (nullable = true)\n",
            " |-- DF: integer (nullable = true)\n",
            " |-- VASC: integer (nullable = true)\n",
            " |-- SCC: integer (nullable = true)\n",
            " |-- UNK: integer (nullable = true)\n",
            "\n",
            "First 5 rows of the DataFrame:\n",
            "+------------+---+---+---+---+---+---+----+---+---+\n",
            "|       image|MEL| NV|BCC| AK|BKL| DF|VASC|SCC|UNK|\n",
            "+------------+---+---+---+---+---+---+----+---+---+\n",
            "|ISIC_0000000|  0|  1|  0|  0|  0|  0|   0|  0|  0|\n",
            "|ISIC_0000001|  0|  1|  0|  0|  0|  0|   0|  0|  0|\n",
            "|ISIC_0000002|  1|  0|  0|  0|  0|  0|   0|  0|  0|\n",
            "|ISIC_0000003|  0|  1|  0|  0|  0|  0|   0|  0|  0|\n",
            "|ISIC_0000004|  1|  0|  0|  0|  0|  0|   0|  0|  0|\n",
            "+------------+---+---+---+---+---+---+----+---+---+\n",
            "only showing top 5 rows\n",
            "\n"
          ]
        }
      ]
    },
    {
      "cell_type": "markdown",
      "source": [
        "### 2.2 Describing Data"
      ],
      "metadata": {
        "id": "xrjAaSTVXaVA"
      }
    },
    {
      "cell_type": "markdown",
      "source": [
        "#### 2.2.1"
      ],
      "metadata": {
        "id": "DX0y3wLgXesr"
      }
    },
    {
      "cell_type": "code",
      "source": [
        "# Get descriptive statistics for the DataFrame\n",
        "print(\"Descriptive Statistics:\")\n",
        "df.describe().show()"
      ],
      "metadata": {
        "colab": {
          "base_uri": "https://localhost:8080/"
        },
        "id": "Zx8UvmQIUc4K",
        "outputId": "331aafd9-52c0-4b69-c128-91cee819ee70"
      },
      "execution_count": 7,
      "outputs": [
        {
          "output_type": "stream",
          "name": "stdout",
          "text": [
            "Descriptive Statistics:\n",
            "+-------+------------+------------------+-------------------+------------------+--------------------+------------------+--------------------+--------------------+-------------------+-----+\n",
            "|summary|       image|               MEL|                 NV|               BCC|                  AK|               BKL|                  DF|                VASC|                SCC|  UNK|\n",
            "+-------+------------+------------------+-------------------+------------------+--------------------+------------------+--------------------+--------------------+-------------------+-----+\n",
            "|  count|       25331|             25331|              25331|             25331|               25331|             25331|               25331|               25331|              25331|25331|\n",
            "|   mean|        NULL|0.1785164423038964| 0.5082704985985551|0.1311831352887766|0.034226836682326005|0.1035884884134065|0.009435079546800363|0.009987762030713354|0.02479175713552564|  0.0|\n",
            "| stddev|        NULL|0.3829544511327569|0.49994146244558796|0.3376071976055377|  0.1818149205142738|0.3047319796279089| 0.09667692482009038|  0.0994404193864189|0.15549302363605366|  0.0|\n",
            "|    min|ISIC_0000000|                 0|                  0|                 0|                   0|                 0|                   0|                   0|                  0|    0|\n",
            "|    max|ISIC_0073254|                 1|                  1|                 1|                   1|                 1|                   1|                   1|                  1|    0|\n",
            "+-------+------------+------------------+-------------------+------------------+--------------------+------------------+--------------------+--------------------+-------------------+-----+\n",
            "\n"
          ]
        }
      ]
    },
    {
      "cell_type": "markdown",
      "source": [
        "## Step 3 Data Preparation"
      ],
      "metadata": {
        "id": "qJBsn1Nj6lIR"
      }
    },
    {
      "cell_type": "code",
      "source": [],
      "metadata": {
        "id": "n7Yt9VqTBTQf"
      },
      "execution_count": 7,
      "outputs": []
    },
    {
      "cell_type": "code",
      "source": [],
      "metadata": {
        "id": "1Jh8aeKWBTTG"
      },
      "execution_count": 7,
      "outputs": []
    },
    {
      "cell_type": "code",
      "source": [],
      "metadata": {
        "id": "3URxBilNBTVq"
      },
      "execution_count": 7,
      "outputs": []
    },
    {
      "cell_type": "markdown",
      "source": [
        "## Step 4 Data Transformation"
      ],
      "metadata": {
        "id": "1dj9gY1xAidV"
      }
    },
    {
      "cell_type": "code",
      "source": [],
      "metadata": {
        "id": "jr1xe06lBT5q"
      },
      "execution_count": 7,
      "outputs": []
    },
    {
      "cell_type": "code",
      "source": [],
      "metadata": {
        "id": "5TsIbH1aBT78"
      },
      "execution_count": 7,
      "outputs": []
    },
    {
      "cell_type": "code",
      "source": [],
      "metadata": {
        "id": "46JmW5uqBT-A"
      },
      "execution_count": 7,
      "outputs": []
    },
    {
      "cell_type": "markdown",
      "source": [
        "## Step 5 Data Mining Method"
      ],
      "metadata": {
        "id": "h8oKq9B9Aik1"
      }
    },
    {
      "cell_type": "code",
      "source": [],
      "metadata": {
        "id": "xlWjUL31BUhg"
      },
      "execution_count": 7,
      "outputs": []
    },
    {
      "cell_type": "code",
      "source": [],
      "metadata": {
        "id": "TSS6SL2mBUjx"
      },
      "execution_count": 7,
      "outputs": []
    },
    {
      "cell_type": "code",
      "source": [],
      "metadata": {
        "id": "z1F0-h4HBUmI"
      },
      "execution_count": 7,
      "outputs": []
    },
    {
      "cell_type": "markdown",
      "source": [
        "## Step 6 Data Mining Algorithm"
      ],
      "metadata": {
        "id": "7jNnDSNI6lKn"
      }
    },
    {
      "cell_type": "code",
      "source": [],
      "metadata": {
        "id": "njiSRtTHBU_a"
      },
      "execution_count": 7,
      "outputs": []
    },
    {
      "cell_type": "code",
      "source": [],
      "metadata": {
        "id": "w_64gH-KBVBc"
      },
      "execution_count": 7,
      "outputs": []
    },
    {
      "cell_type": "code",
      "source": [],
      "metadata": {
        "id": "QhJyodMRBVHw"
      },
      "execution_count": 7,
      "outputs": []
    },
    {
      "cell_type": "markdown",
      "source": [
        "## Step 7 Data Mining"
      ],
      "metadata": {
        "id": "i3L8wtBA6lNM"
      }
    },
    {
      "cell_type": "code",
      "source": [],
      "metadata": {
        "id": "-iBYx1fKBVse"
      },
      "execution_count": 7,
      "outputs": []
    },
    {
      "cell_type": "code",
      "source": [],
      "metadata": {
        "id": "-fa5k6u2BVuw"
      },
      "execution_count": 7,
      "outputs": []
    },
    {
      "cell_type": "code",
      "source": [],
      "metadata": {
        "id": "h6xwFnH8BVw4"
      },
      "execution_count": 7,
      "outputs": []
    },
    {
      "cell_type": "markdown",
      "source": [
        "## Step 8 Interpretation"
      ],
      "metadata": {
        "id": "UIFJ5skz6lPh"
      }
    },
    {
      "cell_type": "code",
      "source": [],
      "metadata": {
        "id": "MKdYoS2MBWQa"
      },
      "execution_count": 7,
      "outputs": []
    },
    {
      "cell_type": "code",
      "source": [],
      "metadata": {
        "id": "ql6n_kN3BWYe"
      },
      "execution_count": 7,
      "outputs": []
    }
  ]
}