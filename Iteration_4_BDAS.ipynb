{
  "nbformat": 4,
  "nbformat_minor": 0,
  "metadata": {
    "colab": {
      "provenance": [],
      "authorship_tag": "ABX9TyOPvEDezrvl6vHKjtjsRv2/",
      "include_colab_link": true
    },
    "kernelspec": {
      "name": "python3",
      "display_name": "Python 3"
    },
    "language_info": {
      "name": "python"
    }
  },
  "cells": [
    {
      "cell_type": "markdown",
      "metadata": {
        "id": "view-in-github",
        "colab_type": "text"
      },
      "source": [
        "<a href=\"https://colab.research.google.com/github/XinchengLi0306/INFOSYS-722-Assignment-5-Iteration-4-BDAS/blob/master/Iteration_4_BDAS.ipynb\" target=\"_parent\"><img src=\"https://colab.research.google.com/assets/colab-badge.svg\" alt=\"Open In Colab\"/></a>"
      ]
    },
    {
      "cell_type": "markdown",
      "source": [
        "# INFOSYS 722 Assignment 5-Iteration-4-BDAS"
      ],
      "metadata": {
        "id": "9sAPbdei6lAU"
      }
    },
    {
      "cell_type": "markdown",
      "source": [
        "## Step 1 Business Understanding\n",
        "\n",
        "\n"
      ],
      "metadata": {
        "id": "-ZXT_Kf66lCq"
      }
    },
    {
      "cell_type": "markdown",
      "source": [
        "### 1.1 Business Situation\n",
        "\n",
        "### 1.2 Assessment of the Situation\n",
        "\n",
        "### 1.3 Data Mining Objectives\n",
        "\n",
        "### 1.4 Project Plan"
      ],
      "metadata": {
        "id": "WayulLAZ7Pwj"
      }
    },
    {
      "cell_type": "markdown",
      "source": [
        "## Step 2 Data Understanding"
      ],
      "metadata": {
        "id": "iAglK_y481US"
      }
    },
    {
      "cell_type": "markdown",
      "source": [],
      "metadata": {
        "id": "F2c_nTk881Xi"
      }
    },
    {
      "cell_type": "code",
      "source": [],
      "metadata": {
        "id": "Gqg2dPcj7XiP"
      },
      "execution_count": null,
      "outputs": []
    },
    {
      "cell_type": "code",
      "execution_count": null,
      "metadata": {
        "id": "-cul5TH13EZy"
      },
      "outputs": [],
      "source": []
    },
    {
      "cell_type": "markdown",
      "source": [
        "## Step 3 Data Preparation"
      ],
      "metadata": {
        "id": "qJBsn1Nj6lIR"
      }
    },
    {
      "cell_type": "code",
      "source": [],
      "metadata": {
        "id": "n7Yt9VqTBTQf"
      },
      "execution_count": null,
      "outputs": []
    },
    {
      "cell_type": "code",
      "source": [],
      "metadata": {
        "id": "1Jh8aeKWBTTG"
      },
      "execution_count": null,
      "outputs": []
    },
    {
      "cell_type": "code",
      "source": [],
      "metadata": {
        "id": "3URxBilNBTVq"
      },
      "execution_count": null,
      "outputs": []
    },
    {
      "cell_type": "markdown",
      "source": [
        "## Step 4 Data Transformation"
      ],
      "metadata": {
        "id": "1dj9gY1xAidV"
      }
    },
    {
      "cell_type": "code",
      "source": [],
      "metadata": {
        "id": "jr1xe06lBT5q"
      },
      "execution_count": null,
      "outputs": []
    },
    {
      "cell_type": "code",
      "source": [],
      "metadata": {
        "id": "5TsIbH1aBT78"
      },
      "execution_count": null,
      "outputs": []
    },
    {
      "cell_type": "code",
      "source": [],
      "metadata": {
        "id": "46JmW5uqBT-A"
      },
      "execution_count": null,
      "outputs": []
    },
    {
      "cell_type": "markdown",
      "source": [
        "## Step 5 Data Mining Method"
      ],
      "metadata": {
        "id": "h8oKq9B9Aik1"
      }
    },
    {
      "cell_type": "code",
      "source": [],
      "metadata": {
        "id": "xlWjUL31BUhg"
      },
      "execution_count": null,
      "outputs": []
    },
    {
      "cell_type": "code",
      "source": [],
      "metadata": {
        "id": "TSS6SL2mBUjx"
      },
      "execution_count": null,
      "outputs": []
    },
    {
      "cell_type": "code",
      "source": [],
      "metadata": {
        "id": "z1F0-h4HBUmI"
      },
      "execution_count": null,
      "outputs": []
    },
    {
      "cell_type": "markdown",
      "source": [
        "## Step 6 Data Mining Algorithm"
      ],
      "metadata": {
        "id": "7jNnDSNI6lKn"
      }
    },
    {
      "cell_type": "code",
      "source": [],
      "metadata": {
        "id": "njiSRtTHBU_a"
      },
      "execution_count": null,
      "outputs": []
    },
    {
      "cell_type": "code",
      "source": [],
      "metadata": {
        "id": "w_64gH-KBVBc"
      },
      "execution_count": null,
      "outputs": []
    },
    {
      "cell_type": "code",
      "source": [],
      "metadata": {
        "id": "QhJyodMRBVHw"
      },
      "execution_count": null,
      "outputs": []
    },
    {
      "cell_type": "markdown",
      "source": [
        "## Step 7 Data Mining"
      ],
      "metadata": {
        "id": "i3L8wtBA6lNM"
      }
    },
    {
      "cell_type": "code",
      "source": [],
      "metadata": {
        "id": "-iBYx1fKBVse"
      },
      "execution_count": null,
      "outputs": []
    },
    {
      "cell_type": "code",
      "source": [],
      "metadata": {
        "id": "-fa5k6u2BVuw"
      },
      "execution_count": null,
      "outputs": []
    },
    {
      "cell_type": "code",
      "source": [],
      "metadata": {
        "id": "h6xwFnH8BVw4"
      },
      "execution_count": null,
      "outputs": []
    },
    {
      "cell_type": "markdown",
      "source": [
        "## Step 8 Interpretation"
      ],
      "metadata": {
        "id": "UIFJ5skz6lPh"
      }
    },
    {
      "cell_type": "code",
      "source": [],
      "metadata": {
        "id": "MKdYoS2MBWQa"
      },
      "execution_count": null,
      "outputs": []
    },
    {
      "cell_type": "code",
      "source": [],
      "metadata": {
        "id": "ql6n_kN3BWYe"
      },
      "execution_count": null,
      "outputs": []
    }
  ]
}